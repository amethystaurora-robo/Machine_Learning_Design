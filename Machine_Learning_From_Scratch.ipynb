{
 "cells": [
  {
   "cell_type": "code",
   "execution_count": null,
   "id": "a16eb0c3-e431-4885-8779-0ca4809dc997",
   "metadata": {},
   "outputs": [],
   "source": [
    "import numpy as np\n",
    "import pandas as pd"
   ]
  },
  {
   "cell_type": "code",
   "execution_count": null,
   "id": "789a379d-e917-41e4-90cf-29c006e40d56",
   "metadata": {},
   "outputs": [],
   "source": [
    "#Generate Data Using SQL Commands"
   ]
  },
  {
   "cell_type": "code",
   "execution_count": null,
   "id": "4e84fa31-e995-4264-bf7f-0ca3bdc751cd",
   "metadata": {},
   "outputs": [],
   "source": [
    "'''\n",
    "Linear Regression:\n",
    "Use the data to fit a line to a scatter plot.\n",
    "The algorithm adjusts the formula y=mx+b until it finds a slope and intercept\n",
    "that passes through as many points as possible\n",
    "The algorithm stops iterating when the cost is greater than or equal to the error.\n",
    "When the line of best fit is formed, more data is predicted\n",
    "'''"
   ]
  },
  {
   "cell_type": "code",
   "execution_count": null,
   "id": "18818451-b248-4246-8e53-a92c783bb7ef",
   "metadata": {},
   "outputs": [],
   "source": [
    "'''\n",
    "Perceptron:\n",
    "'''"
   ]
  }
 ],
 "metadata": {
  "kernelspec": {
   "display_name": "Python 3 (ipykernel)",
   "language": "python",
   "name": "python3"
  },
  "language_info": {
   "codemirror_mode": {
    "name": "ipython",
    "version": 3
   },
   "file_extension": ".py",
   "mimetype": "text/x-python",
   "name": "python",
   "nbconvert_exporter": "python",
   "pygments_lexer": "ipython3",
   "version": "3.9.13"
  }
 },
 "nbformat": 4,
 "nbformat_minor": 5
}
