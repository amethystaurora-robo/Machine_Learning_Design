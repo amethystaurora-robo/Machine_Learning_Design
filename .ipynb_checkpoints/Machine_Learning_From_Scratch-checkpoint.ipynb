{
 "cells": [
  {
   "cell_type": "code",
   "execution_count": 1,
   "id": "a16eb0c3-e431-4885-8779-0ca4809dc997",
   "metadata": {},
   "outputs": [],
   "source": [
    "import numpy as np\n",
    "import pandas as pd "
   ]
  },
  {
   "cell_type": "code",
   "execution_count": 2,
   "id": "789a379d-e917-41e4-90cf-29c006e40d56",
   "metadata": {},
   "outputs": [],
   "source": [
    "#I got this data from Kaggle. I chose it because chocolate.\n",
    "chocolate = pd.read_csv('chocolate_sales.csv')"
   ]
  },
  {
   "cell_type": "markdown",
   "id": "10c673c0-901d-4e08-bbee-554bc910e143",
   "metadata": {},
   "source": [
    "Linear Regression:\n",
    "Use the data to fit a line to a scatter plot.\n",
    "The algorithm adjusts the formula y=mx+b until it finds a slope and intercept\n",
    "that passes through as many points as possible\n",
    "The algorithm stops iterating when the cost is greater than or equal to the error.\n",
    "When the line of best fit is formed, more data is predicted"
   ]
  },
  {
   "cell_type": "code",
   "execution_count": 20,
   "id": "c6a3154f-b2af-42aa-9006-82a22f63eace",
   "metadata": {},
   "outputs": [
    {
     "name": "stdout",
     "output_type": "stream",
     "text": [
      "0        90\n",
      "1       720\n",
      "2       630\n",
      "3       360\n",
      "4       180\n",
      "       ... \n",
      "1089    450\n",
      "1090    540\n",
      "1091    630\n",
      "1092    630\n",
      "1093    450\n",
      "Name: month_standardized, Length: 1094, dtype: int64\n"
     ]
    }
   ],
   "source": [
    "#Choose the data\n",
    "#I want to do month and boxes shipped so first make a new column of month\n",
    "#TO DO: Make this like 4 lines by using a dictionary\n",
    "chocolate_date = chocolate['Date'].tolist()\n",
    "chocolate_month = []\n",
    "for date in chocolate_date:\n",
    "    if 'Jan' in date:\n",
    "        chocolate_month.append(1)\n",
    "    elif 'Feb' in date:\n",
    "        chocolate_month.append(2)\n",
    "    elif 'Mar' in date:\n",
    "        chocolate_month.append(3)\n",
    "    elif 'Apr' in date:\n",
    "        chocolate_month.append(4)\n",
    "    elif 'May' in date:\n",
    "        chocolate_month.append(5)\n",
    "    elif 'Jun' in date:\n",
    "        chocolate_month.append(6)\n",
    "    elif 'Jul' in date:\n",
    "        chocolate_month.append(7)\n",
    "    elif 'Aug' in date:\n",
    "        chocolate_month.append(8)\n",
    "    elif 'Sep' in date:\n",
    "        chocolate_month.append(9)\n",
    "    elif 'Oct' in date:\n",
    "        chocolate_month.append(10)\n",
    "    elif 'Nov' in date:\n",
    "        chocolate_month.append(11)\n",
    "    elif 'Dec' in date:\n",
    "        chocolate_month.append(12)\n",
    "\n",
    "standardized_list = []\n",
    "for value in chocolate_month:\n",
    "    value=value*90\n",
    "    standardized_list.append(value)\n",
    "chocolate['Month'] = chocolate_month\n",
    "chocolate['month_standardized'] = standardized_list\n",
    "print(chocolate['month_standardized'])"
   ]
  },
  {
   "cell_type": "code",
   "execution_count": 21,
   "id": "82e4e266-1a40-4410-b3cf-c1791092d7b3",
   "metadata": {},
   "outputs": [
    {
     "name": "stdout",
     "output_type": "stream",
     "text": [
      "720\n"
     ]
    }
   ],
   "source": [
    "print(max(chocolate['month_standardized']))\n"
   ]
  },
  {
   "cell_type": "code",
   "execution_count": null,
   "id": "21f5b14d-cc5b-41f1-a1d8-bc33cd92887c",
   "metadata": {},
   "outputs": [],
   "source": [
    "#y=mx+b is continuously solved with different b's and m's, returning the error rate for each line - mean squared error\n",
    "#maybe make step size a parameter later, but for now use m step size 0.1, b step size is 1, starting points are -1 and 0\n",
    "#fix this later but for now it is a nested loop\n",
    "ordered_x = chocolate.sort_values(by='Boxes Shipped')['Boxes Shipped'].tolist()\n",
    "yi_list = []\n",
    "#n = length of dataframe\n",
    "n = len(chocolate)\n",
    "#start with b=0\n",
    "b=0\n",
    "#start with m=-1\n",
    "m=-1\n",
    "while (b <= 720):\n",
    "    while(m<=1):\n",
    "        #start with ordered list of x's (different boxes), stop iterating at end of list\n",
    "        for x in ordered_x:\n",
    "            #yi = m(x)+b\n",
    "            yi = m*x+b\n",
    "            #append yi to list\n",
    "            yi_list.append(yi)\n",
    "            #start with y=month, stop iterating at end of list\n",
    "            for y in standardized_list:\n",
    "                #mse = 1/n*sum(y-yi)^2\n",
    "                mse = 1/n*sum(y-yi)^2\n",
    "                #append mse to dataframe along with current value of b and m\n",
    "#increase by 0.1 and repeat\n",
    "#increase b by 1 and repeat\n",
    "#n=length of dataframe, y=month, yi is y=mx+b solved for y with different values of x (these different values are boxes sold) \n",
    "\n",
    "#mean squared error = (1/n)*sum(y-yi)^2\n",
    "#convergence is achieved with the lowest mean squared error, output slope and b for that one\n"
   ]
  },
  {
   "cell_type": "code",
   "execution_count": null,
   "id": "18818451-b248-4246-8e53-a92c783bb7ef",
   "metadata": {},
   "outputs": [],
   "source": [
    "'''\n",
    "Perceptron:\n",
    "'''"
   ]
  }
 ],
 "metadata": {
  "kernelspec": {
   "display_name": "Python 3 (ipykernel)",
   "language": "python",
   "name": "python3"
  },
  "language_info": {
   "codemirror_mode": {
    "name": "ipython",
    "version": 3
   },
   "file_extension": ".py",
   "mimetype": "text/x-python",
   "name": "python",
   "nbconvert_exporter": "python",
   "pygments_lexer": "ipython3",
   "version": "3.9.13"
  }
 },
 "nbformat": 4,
 "nbformat_minor": 5
}
